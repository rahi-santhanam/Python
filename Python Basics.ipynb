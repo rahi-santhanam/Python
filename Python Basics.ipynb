{
 "cells": [
  {
   "cell_type": "markdown",
   "id": "69ac1216-c992-4296-9246-725cd01a068a",
   "metadata": {},
   "source": [
    "## PYTHON WEEK - 1"
   ]
  },
  {
   "cell_type": "markdown",
   "id": "0d67dc7c-479e-4aed-98fa-182bc0792a54",
   "metadata": {},
   "source": [
    "## BASICS"
   ]
  },
  {
   "cell_type": "markdown",
   "id": "bca8cff1-7795-4d08-989f-ed0c40f35d32",
   "metadata": {},
   "source": [
    "### Print Statement"
   ]
  },
  {
   "cell_type": "code",
   "execution_count": 1,
   "id": "02b8f48e-6d40-4329-952c-9ef0a8a2bbd5",
   "metadata": {},
   "outputs": [
    {
     "name": "stdout",
     "output_type": "stream",
     "text": [
      "Python week-1 practice\n"
     ]
    }
   ],
   "source": [
    "#print statement\n",
    "\n",
    "print(\"Python week-1 practice\")\n",
    "\n",
    "#print(\" \") - what are all the lines given within the double quotes, it'll print as output"
   ]
  },
  {
   "cell_type": "markdown",
   "id": "8bdc7db5-253f-42be-85c3-547091bbcbc7",
   "metadata": {},
   "source": [
    "### Comments"
   ]
  },
  {
   "cell_type": "raw",
   "id": "66ba0649-8f94-4e4c-9a44-d896767a2dd5",
   "metadata": {},
   "source": [
    "'''\n",
    "Comments can be given by using hashtag'#'. It makes the code more readable. we can also use 'triple quotes' to give comments\n",
    "\n",
    "'''"
   ]
  },
  {
   "cell_type": "markdown",
   "id": "dd85338b-ffa0-47d0-a6bd-83196e57b987",
   "metadata": {},
   "source": [
    "## Datatypes"
   ]
  },
  {
   "cell_type": "markdown",
   "id": "1379cd1b-2cdc-4f45-a970-90f15fb37b8f",
   "metadata": {},
   "source": [
    "Data means information.\n",
    "Type means which type of information we are having.\n",
    "\n",
    "TYPES :\n",
    "1. int - Starts with Zero to whole numbers. It contains only whole numbers.\n",
    "2. float - Contains only decimal values\n",
    "3. complex - Contains vectors\n",
    "4. boolean - True, False. The 'T' and 'F' should be captial letter\n",
    "5. string - Contains number or group of character within single or double quotes.\n"
   ]
  },
  {
   "cell_type": "code",
   "execution_count": 3,
   "id": "2179a7f4-0994-4cfd-a0df-82e298ff27d3",
   "metadata": {},
   "outputs": [
    {
     "name": "stdout",
     "output_type": "stream",
     "text": [
      "5\n",
      "<class 'int'>\n"
     ]
    }
   ],
   "source": [
    "#int\n",
    "\n",
    "a = 5\n",
    "print(a)\n",
    "print(type(a))"
   ]
  },
  {
   "cell_type": "code",
   "execution_count": 5,
   "id": "b7416e10-04f7-4f25-83cf-3ef7dfc5a125",
   "metadata": {},
   "outputs": [
    {
     "name": "stdout",
     "output_type": "stream",
     "text": [
      "1000.5\n",
      "The datatype of k is <class 'float'>\n"
     ]
    }
   ],
   "source": [
    "#float\n",
    "\n",
    "k = 1000.5\n",
    "print(k)\n",
    "print(\"The datatype of k is\", type(k))"
   ]
  },
  {
   "cell_type": "code",
   "execution_count": 7,
   "id": "e0cbaa28-b426-4cd5-b86a-68ccf6e9826c",
   "metadata": {},
   "outputs": [
    {
     "name": "stdout",
     "output_type": "stream",
     "text": [
      "2j\n",
      "The datatype of v is <class 'complex'>\n"
     ]
    }
   ],
   "source": [
    "#complex\n",
    "\n",
    "v = 2j\n",
    "print(v)\n",
    "print(\"The datatype of v is\", type(v))"
   ]
  },
  {
   "cell_type": "code",
   "execution_count": 9,
   "id": "e756cf94-a322-46b9-9f0a-2274212f0385",
   "metadata": {},
   "outputs": [
    {
     "name": "stdout",
     "output_type": "stream",
     "text": [
      "True\n",
      "The datatype of b is <class 'bool'>\n",
      "4\n",
      "The datatype of c is <class 'int'>\n"
     ]
    }
   ],
   "source": [
    "#boolean\n",
    "\n",
    "b = True\n",
    "c = 4\n",
    "print(b)\n",
    "print(\"The datatype of b is\", type(b))\n",
    "print(c)\n",
    "print(\"The datatype of c is\", type(c))"
   ]
  },
  {
   "cell_type": "code",
   "execution_count": 11,
   "id": "80ca4d9e-f9ca-4f62-8cb5-23ad85a60c40",
   "metadata": {},
   "outputs": [
    {
     "name": "stdout",
     "output_type": "stream",
     "text": [
      "3\n",
      "The datatype of g is <class 'str'>\n",
      "Python\n",
      "The datatype of h is <class 'str'>\n"
     ]
    }
   ],
   "source": [
    "#string\n",
    "\n",
    "g = '3'\n",
    "h = 'Python'\n",
    "print(g)\n",
    "print(\"The datatype of g is\", type(g))\n",
    "print(h)\n",
    "print(\"The datatype of h is\", type(h))"
   ]
  },
  {
   "cell_type": "markdown",
   "id": "5d40c1a8-fe9b-4512-8a09-4fe45c4c876d",
   "metadata": {},
   "source": [
    "## Converting Datatypes"
   ]
  },
  {
   "cell_type": "code",
   "execution_count": 14,
   "id": "932df431-c2b8-48ca-9052-2e4ec76601c1",
   "metadata": {},
   "outputs": [
    {
     "name": "stdout",
     "output_type": "stream",
     "text": [
      "The datatype of q is <class 'int'>\n",
      "The datatype of s is <class 'float'>\n",
      "5.0\n"
     ]
    }
   ],
   "source": [
    "#i)\n",
    "q = 5\n",
    "print(\"The datatype of q is\", type(q))\n",
    "\n",
    "#First assign a variable and then give the datatype to which you want to convert\n",
    "#I am going to convert int to float.\n",
    "\n",
    "s = float(q)\n",
    "print(\"The datatype of s is\", type(s))\n",
    "print(s)"
   ]
  },
  {
   "cell_type": "code",
   "execution_count": 16,
   "id": "b2a0cc38-1110-4f7e-932f-12972e258db6",
   "metadata": {},
   "outputs": [
    {
     "name": "stdout",
     "output_type": "stream",
     "text": [
      "The datatype of w is <class 'str'>\n",
      "The datatype of z is <class 'int'>\n",
      "999\n"
     ]
    }
   ],
   "source": [
    "#ii)\n",
    "w = '999'\n",
    "print(\"The datatype of w is\", type(w))\n",
    "\n",
    "#convert str to int. \n",
    "#converting str to int is possible, only we have whole numbers within the single quotes\n",
    "\n",
    "z = int(w)\n",
    "print(\"The datatype of z is\", type(z))\n",
    "print(z)"
   ]
  },
  {
   "cell_type": "code",
   "execution_count": 18,
   "id": "bb45bd98-4a64-4b58-9ce9-f65be4f63d47",
   "metadata": {},
   "outputs": [
    {
     "name": "stdout",
     "output_type": "stream",
     "text": [
      "The datatype of t is <class 'float'>\n",
      "The datatype of r is <class 'int'>\n",
      "The datatype of o is <class 'str'>\n",
      "55\n",
      "55.87654\n"
     ]
    }
   ],
   "source": [
    "#iii)\n",
    "t = 55.87654\n",
    "print(\"The datatype of t is\", type(t))\n",
    "\n",
    "#convert float to int, str\n",
    "r = int(t)\n",
    "o = str(t)\n",
    "print(\"The datatype of r is\", type(r))\n",
    "print(\"The datatype of o is\", type(o))\n",
    "print(r)\n",
    "print(o)"
   ]
  },
  {
   "cell_type": "code",
   "execution_count": null,
   "id": "af4d1c4d-8251-4d13-b9ea-ca4c5ed1150e",
   "metadata": {},
   "outputs": [],
   "source": []
  },
  {
   "cell_type": "code",
   "execution_count": null,
   "id": "68767a9d-3de8-4bd9-91f3-5c83eac42f50",
   "metadata": {},
   "outputs": [],
   "source": []
  },
  {
   "cell_type": "code",
   "execution_count": null,
   "id": "a070e311-98fa-4999-a122-97401d441cb0",
   "metadata": {},
   "outputs": [],
   "source": []
  },
  {
   "cell_type": "markdown",
   "id": "e5ebeb9d-4814-493e-8b07-645e2403310e",
   "metadata": {},
   "source": [
    "## Arrays"
   ]
  },
  {
   "cell_type": "markdown",
   "id": "8d13e0cc-da87-4649-9d73-94f0fbd8d74a",
   "metadata": {},
   "source": [
    "\n",
    "ADVANTAGES:\n",
    "1. With the help of array, I can able to assign more values in one variable once I set the range\n",
    "2. With the help of Index, I can able to access the values\n",
    "\n",
    "DISADVANTAGES:\n",
    "1. Mixed datatypes are not allowed in array\n",
    "(i.e. the values should be in same datatype)\n"
   ]
  },
  {
   "cell_type": "markdown",
   "id": "276013cf-bba4-4341-b289-26d3fcb93110",
   "metadata": {},
   "source": [
    "## Data Structure"
   ]
  },
  {
   "cell_type": "markdown",
   "id": "2bafb753-95f3-4200-b179-578b777af5f8",
   "metadata": {},
   "source": [
    "Data structure means how we are storing a collection of data"
   ]
  },
  {
   "cell_type": "markdown",
   "id": "757f86b5-c870-4763-a41b-df80a53af9fa",
   "metadata": {},
   "source": [
    "#### Types of data structure"
   ]
  },
  {
   "cell_type": "markdown",
   "id": "2e7843ab-dded-43c2-a71d-399deedf8a41",
   "metadata": {},
   "source": [
    "\n",
    "4 types of data structure\n",
    "1. List\n",
    "2. Set\n",
    "3. Tuple\n",
    "4. Dictionary\n"
   ]
  }
 ],
 "metadata": {
  "kernelspec": {
   "display_name": "Python 3 (ipykernel)",
   "language": "python",
   "name": "python3"
  },
  "language_info": {
   "codemirror_mode": {
    "name": "ipython",
    "version": 3
   },
   "file_extension": ".py",
   "mimetype": "text/x-python",
   "name": "python",
   "nbconvert_exporter": "python",
   "pygments_lexer": "ipython3",
   "version": "3.12.3"
  }
 },
 "nbformat": 4,
 "nbformat_minor": 5
}
